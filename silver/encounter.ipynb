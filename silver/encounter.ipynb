{
 "cells": [
  {
   "cell_type": "code",
   "execution_count": 0,
   "metadata": {
    "application/vnd.databricks.v1+cell": {
     "cellMetadata": {
      "byteLimit": 2048000,
      "implicitDf": true,
      "rowLimit": 10000
     },
     "inputWidgets": {},
     "nuid": "403d25be-55a1-47d2-9f83-f75ca17085df",
     "showTitle": false,
     "tableResultSettingsMap": {},
     "title": ""
    }
   },
   "outputs": [],
   "source": [
    "\n",
    " %sql\n",
    "\n",
    "CREATE OR REPLACE TEMP VIEW hosa_encounters\n",
    " USING parquet\n",
    " OPTIONS (\n",
    "  path \"dbfs:/mnt/bronze/hosa/encounters\"\n",
    ");\n",
    "\n",
    " CREATE OR REPLACE TEMP VIEW hosb_encounters\n",
    "USING parquet\n",
    "OPTIONS (\n",
    "   path \"dbfs:/mnt/bronze/hosb/encounters\"\n",
    " );\n",
    "\n",
    "-- Union the two views\n",
    "CREATE OR REPLACE TEMP VIEW encounters AS\n",
    " SELECT * FROM hosa_encounters\n",
    " UNION ALL\n",
    " SELECT * FROM hosb_encounters;\n",
    "\n",
    " -- Display the merged data\n",
    "SELECT * FROM encounters;\n",
    "\n"
   ]
  },
  {
   "cell_type": "code",
   "execution_count": 0,
   "metadata": {
    "application/vnd.databricks.v1+cell": {
     "cellMetadata": {
      "byteLimit": 2048000,
      "implicitDf": true,
      "rowLimit": 10000
     },
     "inputWidgets": {},
     "nuid": "7764243d-76c9-4264-8724-a4a4bd7ad836",
     "showTitle": false,
     "tableResultSettingsMap": {},
     "title": ""
    }
   },
   "outputs": [],
   "source": [
    "\n",
    " %sql\n",
    "select * from encounters"
   ]
  },
  {
   "cell_type": "code",
   "execution_count": 0,
   "metadata": {
    "application/vnd.databricks.v1+cell": {
     "cellMetadata": {
      "byteLimit": 2048000,
      "implicitDf": true,
      "rowLimit": 10000
     },
     "inputWidgets": {},
     "nuid": "def62257-b1e2-47f2-b699-2008217c8745",
     "showTitle": false,
     "tableResultSettingsMap": {},
     "title": ""
    }
   },
   "outputs": [],
   "source": [
    " %sql\n",
    "CREATE OR REPLACE TEMP VIEW quality_checks AS\n",
    " SELECT \n",
    " concat(EncounterID,'-',data_source) as EncounterID,\n",
    " EncounterID SRC_EncounterID,\n",
    " PatientID,\n",
    "EncounterDate,\n",
    " EncounterType,\n",
    "ProviderID,\n",
    " DepartmentID,\n",
    " ProcedureCode,\n",
    " InsertedDate as SRC_InsertedDate,\n",
    " ModifiedDate as SRC_ModifiedDate,\n",
    " data_source as datasource,\n",
    "     CASE \n",
    "         WHEN EncounterID IS NULL OR PatientID IS NULL THEN TRUE\n",
    "         ELSE FALSE\n",
    "    END AS is_quarantined\n",
    " FROM encounters"
   ]
  },
  {
   "cell_type": "code",
   "execution_count": 0,
   "metadata": {
    "application/vnd.databricks.v1+cell": {
     "cellMetadata": {
      "byteLimit": 2048000,
      "implicitDf": true,
      "rowLimit": 10000
     },
     "inputWidgets": {},
     "nuid": "be8a0304-deda-4819-b80d-b6b6fa5a8e10",
     "showTitle": false,
     "tableResultSettingsMap": {},
     "title": ""
    }
   },
   "outputs": [],
   "source": [
    " %sql\n",
    " select * from quality_checks\n",
    " where datasource='hos-b'\n"
   ]
  },
  {
   "cell_type": "code",
   "execution_count": 0,
   "metadata": {
    "application/vnd.databricks.v1+cell": {
     "cellMetadata": {
      "byteLimit": 2048000,
      "implicitDf": true,
      "rowLimit": 10000
     },
     "inputWidgets": {},
     "nuid": "d2946c16-b713-408a-98d0-248d5cacf089",
     "showTitle": false,
     "tableResultSettingsMap": {},
     "title": ""
    }
   },
   "outputs": [],
   "source": [
    "\n",
    " %sql\n",
    " CREATE TABLE IF NOT EXISTS silver.encounters (\n",
    " EncounterID string,\n",
    " SRC_EncounterID string,\n",
    " PatientID string,\n",
    " EncounterDate date,\n",
    "EncounterType string,\n",
    "ProviderID string,\n",
    " DepartmentID string,\n",
    " ProcedureCode integer,\n",
    " SRC_InsertedDate date,\n",
    " SRC_ModifiedDate date,\n",
    " datasource string,\n",
    " is_quarantined boolean,\n",
    " audit_insertdate timestamp,\n",
    " audit_modifieddate timestamp,\n",
    " is_current boolean\n",
    " )\n",
    " USING DELTA;\n"
   ]
  },
  {
   "cell_type": "code",
   "execution_count": 0,
   "metadata": {
    "application/vnd.databricks.v1+cell": {
     "cellMetadata": {
      "byteLimit": 2048000,
      "implicitDf": true,
      "rowLimit": 10000
     },
     "inputWidgets": {},
     "nuid": "5100d9aa-288a-4d8f-88a6-c892d9203b9f",
     "showTitle": false,
     "tableResultSettingsMap": {},
     "title": ""
    }
   },
   "outputs": [],
   "source": [
    "%sql\n",
    "truncate table silver.encounters;"
   ]
  },
  {
   "cell_type": "code",
   "execution_count": 0,
   "metadata": {
    "application/vnd.databricks.v1+cell": {
     "cellMetadata": {
      "byteLimit": 2048000,
      "implicitDf": true,
      "rowLimit": 10000
     },
     "inputWidgets": {},
     "nuid": "89584fc9-e260-4c44-adea-640755460392",
     "showTitle": false,
     "tableResultSettingsMap": {},
     "title": ""
    }
   },
   "outputs": [],
   "source": [
    "\n",
    "\n",
    " %sql\n",
    "-- Update old record to implement SCD Type 2\n",
    " MERGE INTO silver.encounters AS target\n",
    "USING quality_checks AS source\n",
    " ON target.EncounterID = source.EncounterID AND target.is_current = true\n",
    "WHEN MATCHED AND (\n",
    "   target.SRC_EncounterID != source.SRC_EncounterID OR\n",
    "  target.PatientID != source.PatientID OR\n",
    "   target.EncounterDate != source.EncounterDate OR\n",
    "     target.EncounterType != source.EncounterType OR\n",
    "   target.ProviderID != source.ProviderID OR\n",
    "   target.DepartmentID != source.DepartmentID OR\n",
    "    target.ProcedureCode != source.ProcedureCode OR\n",
    "    target.SRC_InsertedDate != source.SRC_InsertedDate OR\n",
    "     target.SRC_ModifiedDate != source.SRC_ModifiedDate OR\n",
    "     target.datasource != source.datasource OR\n",
    "    target.is_quarantined != source.is_quarantined\n",
    " ) THEN\n",
    "   UPDATE SET\n",
    "    target.is_current = false,\n",
    "    target.audit_modifieddate = current_timestamp()"
   ]
  },
  {
   "cell_type": "code",
   "execution_count": 0,
   "metadata": {
    "application/vnd.databricks.v1+cell": {
     "cellMetadata": {
      "byteLimit": 2048000,
      "implicitDf": true,
      "rowLimit": 10000
     },
     "inputWidgets": {},
     "nuid": "70803477-f7ea-4029-9d4b-b0a78d9e8d37",
     "showTitle": false,
     "tableResultSettingsMap": {},
     "title": ""
    }
   },
   "outputs": [],
   "source": [
    "\n",
    "\n",
    " %sql\n",
    " -- Insert new record to implement SCD Type 2\n",
    " MERGE INTO silver.encounters AS target USING quality_checks AS source ON target.EncounterID = source.EncounterID\n",
    " AND target.is_current = true\n",
    "WHEN NOT MATCHED THEN\n",
    "INSERT\n",
    "   (\n",
    "     EncounterID,\n",
    "    SRC_EncounterID,\n",
    "    PatientID,\n",
    "     EncounterDate,\n",
    "     EncounterType,\n",
    "    ProviderID,\n",
    "     DepartmentID,\n",
    "   ProcedureCode,\n",
    "   SRC_InsertedDate,\n",
    "     SRC_ModifiedDate,\n",
    "    datasource,\n",
    "    is_quarantined,\n",
    "    audit_insertdate,\n",
    "    audit_modifieddate,\n",
    "  is_current\n",
    "   )\n",
    " VALUES\n",
    "   (\n",
    "    source.EncounterID,\n",
    "    source.SRC_EncounterID,\n",
    "     source.PatientID,\n",
    "     source.EncounterDate,\n",
    "    source.EncounterType,\n",
    "    source.ProviderID,\n",
    "    source.DepartmentID,\n",
    "    source.ProcedureCode,\n",
    "    source.SRC_InsertedDate,\n",
    "     source.SRC_ModifiedDate,\n",
    "    source.datasource,\n",
    "    source.is_quarantined,\n",
    "    current_timestamp(),\n",
    "    current_timestamp(),\n",
    "     true\n",
    "  );"
   ]
  },
  {
   "cell_type": "code",
   "execution_count": 0,
   "metadata": {
    "application/vnd.databricks.v1+cell": {
     "cellMetadata": {
      "byteLimit": 2048000,
      "implicitDf": true,
      "rowLimit": 10000
     },
     "inputWidgets": {},
     "nuid": "6bf37ba2-17bc-442a-bb9c-717bec4d94d9",
     "showTitle": false,
     "tableResultSettingsMap": {},
     "title": ""
    }
   },
   "outputs": [],
   "source": [
    "\n",
    "\n",
    " %sql\n",
    "select SRC_EncounterID,datasource,count(patientid) from  silver.encounters\n",
    " group by all\n",
    " order by 3 desc\n"
   ]
  },
  {
   "cell_type": "code",
   "execution_count": 0,
   "metadata": {
    "application/vnd.databricks.v1+cell": {
     "cellMetadata": {},
     "inputWidgets": {},
     "nuid": "c5826965-2f61-4cf0-837c-66eac0c0cfab",
     "showTitle": false,
     "tableResultSettingsMap": {},
     "title": ""
    }
   },
   "outputs": [],
   "source": []
  }
 ],
 "metadata": {
  "application/vnd.databricks.v1+notebook": {
   "computePreferences": null,
   "dashboards": [],
   "environmentMetadata": {
    "base_environment": "",
    "client": "1"
   },
   "language": "python",
   "notebookMetadata": {
    "mostRecentlyExecutedCommandWithImplicitDF": {
     "commandId": 8808273013383837,
     "dataframes": [
      "_sqldf"
     ]
    },
    "pythonIndentUnit": 4
   },
   "notebookName": "encounter",
   "widgets": {}
  },
  "language_info": {
   "name": "python"
  }
 },
 "nbformat": 4,
 "nbformat_minor": 0
}
