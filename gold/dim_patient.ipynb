{
 "cells": [
  {
   "cell_type": "code",
   "execution_count": 0,
   "metadata": {
    "application/vnd.databricks.v1+cell": {
     "cellMetadata": {
      "byteLimit": 2048000,
      "implicitDf": true,
      "rowLimit": 10000
     },
     "inputWidgets": {},
     "nuid": "40d24e70-bebd-427a-9da2-f35ff6aa7a8c",
     "showTitle": false,
     "tableResultSettingsMap": {},
     "title": ""
    }
   },
   "outputs": [],
   "source": [
    "  %sql\n",
    "  CREATE TABLE IF NOT EXISTS gold.dim_patient\n",
    "  (\n",
    "      patient_key STRING,\n",
    "      src_patientid STRING,\n",
    "      firstname STRING,\n",
    "      lastname STRING,\n",
    "      middlename STRING,\n",
    "      ssn STRING,\n",
    "      phonenumber STRING,\n",
    "      gender STRING,\n",
    "      dob DATE,\n",
    "      address STRING,\n",
    "      datasource STRING\n",
    "  )\n"
   ]
  },
  {
   "cell_type": "code",
   "execution_count": 0,
   "metadata": {
    "application/vnd.databricks.v1+cell": {
     "cellMetadata": {
      "byteLimit": 2048000,
      "implicitDf": true,
      "rowLimit": 10000
     },
     "inputWidgets": {},
     "nuid": "ce3b0b30-b6ba-4e51-a426-66066afb5ec1",
     "showTitle": false,
     "tableResultSettingsMap": {},
     "title": ""
    }
   },
   "outputs": [],
   "source": [
    "  %sql \n",
    "  truncate TABLE gold.dim_patient \n"
   ]
  },
  {
   "cell_type": "code",
   "execution_count": 0,
   "metadata": {
    "application/vnd.databricks.v1+cell": {
     "cellMetadata": {
      "byteLimit": 2048000,
      "implicitDf": true,
      "rowLimit": 10000
     },
     "inputWidgets": {},
     "nuid": "bb74fcd2-15c6-4638-bea0-ce6d19822b4d",
     "showTitle": false,
     "tableResultSettingsMap": {},
     "title": ""
    }
   },
   "outputs": [],
   "source": [
    "  %sql\n",
    "  insert into gold.dim_patient\n",
    "  select \n",
    "       patient_key ,\n",
    "      src_patientid ,\n",
    "      firstname ,\n",
    "      lastname ,\n",
    "      middlename ,\n",
    "      ssn ,\n",
    "      phonenumber ,\n",
    "      gender ,\n",
    "      dob ,\n",
    "      address ,\n",
    "      datasource \n",
    "   from silver.patients\n",
    "   where is_current=true and is_quarantined=false"
   ]
  },
  {
   "cell_type": "code",
   "execution_count": 0,
   "metadata": {
    "application/vnd.databricks.v1+cell": {
     "cellMetadata": {},
     "inputWidgets": {},
     "nuid": "86dba013-7f24-462c-a597-8ec6b97bdaad",
     "showTitle": false,
     "tableResultSettingsMap": {},
     "title": ""
    }
   },
   "outputs": [],
   "source": []
  }
 ],
 "metadata": {
  "application/vnd.databricks.v1+notebook": {
   "computePreferences": null,
   "dashboards": [],
   "environmentMetadata": {
    "base_environment": "",
    "client": "1"
   },
   "language": "python",
   "notebookMetadata": {
    "mostRecentlyExecutedCommandWithImplicitDF": {
     "commandId": 7962166204171321,
     "dataframes": [
      "_sqldf"
     ]
    },
    "pythonIndentUnit": 4
   },
   "notebookName": "dim_patient",
   "widgets": {}
  },
  "language_info": {
   "name": "python"
  }
 },
 "nbformat": 4,
 "nbformat_minor": 0
}
