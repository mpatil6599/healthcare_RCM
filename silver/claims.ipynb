{
 "cells": [
  {
   "cell_type": "code",
   "execution_count": 0,
   "metadata": {
    "application/vnd.databricks.v1+cell": {
     "cellMetadata": {
      "byteLimit": 2048000,
      "rowLimit": 10000
     },
     "inputWidgets": {},
     "nuid": "9ed44086-2f77-4577-aaf0-1dce47fd09d0",
     "showTitle": false,
     "tableResultSettingsMap": {},
     "title": ""
    }
   },
   "outputs": [],
   "source": [
    "# Databricks notebook source\n",
    "from pyspark.sql import SparkSession, functions as f\n",
    "\n",
    "claims_df=spark.read.csv(\"/mnt/landing/claims/*.csv\",header=True)\n",
    "\n",
    "claims_df = claims_df.withColumn(\n",
    "    \"datasource\",\n",
    "    f.when(f.input_file_name().contains(\"hospital1\"), \"hosa\").when(f.input_file_name().contains(\"hospital2\"), \"hosb\")\n",
    "     .otherwise(None)\n",
    ") \n",
    "\n",
    "\n"
   ]
  },
  {
   "cell_type": "code",
   "execution_count": 0,
   "metadata": {
    "application/vnd.databricks.v1+cell": {
     "cellMetadata": {
      "byteLimit": 2048000,
      "rowLimit": 10000
     },
     "inputWidgets": {},
     "nuid": "cd5aeda2-7f74-42a9-89ba-71863817f285",
     "showTitle": false,
     "tableResultSettingsMap": {},
     "title": ""
    }
   },
   "outputs": [],
   "source": [
    "display(claims_df)"
   ]
  },
  {
   "cell_type": "code",
   "execution_count": 0,
   "metadata": {
    "application/vnd.databricks.v1+cell": {
     "cellMetadata": {
      "byteLimit": 2048000,
      "rowLimit": 10000
     },
     "inputWidgets": {},
     "nuid": "c944213b-c529-4bad-9d1f-3db32d409313",
     "showTitle": false,
     "tableResultSettingsMap": {},
     "title": ""
    }
   },
   "outputs": [],
   "source": [
    "\n",
    "\n",
    "claims_df.write.format(\"parquet\").mode(\"overwrite\").save(\"/mnt/bronze/claims/\")\n",
    "\n"
   ]
  },
  {
   "cell_type": "code",
   "execution_count": 0,
   "metadata": {
    "application/vnd.databricks.v1+cell": {
     "cellMetadata": {
      "byteLimit": 2048000,
      "rowLimit": 10000
     },
     "inputWidgets": {},
     "nuid": "fb2b707b-d6e7-4c54-8b88-2291c9c775b0",
     "showTitle": false,
     "tableResultSettingsMap": {},
     "title": ""
    }
   },
   "outputs": [],
   "source": [
    "claims_df.createOrReplaceTempView(\"claims\")"
   ]
  },
  {
   "cell_type": "code",
   "execution_count": 0,
   "metadata": {
    "application/vnd.databricks.v1+cell": {
     "cellMetadata": {
      "byteLimit": 2048000,
      "implicitDf": true,
      "rowLimit": 10000
     },
     "inputWidgets": {},
     "nuid": "366983f1-5d62-4a38-a160-fa0b5b975ff5",
     "showTitle": false,
     "tableResultSettingsMap": {},
     "title": ""
    }
   },
   "outputs": [],
   "source": [
    "%sql\n",
    "  CREATE OR REPLACE TEMP VIEW quality_checks AS\n",
    "  SELECT \n",
    "   CONCAT(ClaimID,'-', datasource) AS ClaimID,\n",
    "  ClaimID AS  SRC_ClaimID,\n",
    "  TransactionID,\n",
    "  PatientID,\n",
    "  EncounterID,\n",
    "  ProviderID,\n",
    "  DeptID,\n",
    "  cast(ServiceDate as date) ServiceDate,\n",
    "  cast(ClaimDate as date) ClaimDate,\n",
    "  PayorID,\n",
    "  ClaimAmount,\n",
    "  PaidAmount,\n",
    "  ClaimStatus,\n",
    "  PayorType,\n",
    "  Deductible,\n",
    "  Coinsurance,\n",
    "  Copay,\n",
    "  cast(InsertDate as date) as SRC_InsertDate,\n",
    "  cast(ModifiedDate as date) as SRC_ModifiedDate,\n",
    "  datasource,\n",
    "      CASE \n",
    "          WHEN ClaimID IS NULL OR TransactionID IS NULL OR PatientID IS NULL or ServiceDate IS NULL THEN TRUE\n",
    "          ELSE FALSE\n",
    "      END AS is_quarantined\n",
    "  FROM claims\n"
   ]
  },
  {
   "cell_type": "code",
   "execution_count": 0,
   "metadata": {
    "application/vnd.databricks.v1+cell": {
     "cellMetadata": {
      "byteLimit": 2048000,
      "implicitDf": true,
      "rowLimit": 10000
     },
     "inputWidgets": {},
     "nuid": "19b83c49-7dca-497a-a8b9-280cf586c59c",
     "showTitle": false,
     "tableResultSettingsMap": {},
     "title": ""
    }
   },
   "outputs": [],
   "source": [
    "%sql\n",
    "  select * from quality_checks\n"
   ]
  },
  {
   "cell_type": "code",
   "execution_count": 0,
   "metadata": {
    "application/vnd.databricks.v1+cell": {
     "cellMetadata": {
      "byteLimit": 2048000,
      "implicitDf": true,
      "rowLimit": 10000
     },
     "inputWidgets": {},
     "nuid": "60f0f134-851d-4ccb-aa1b-4a3baadaeedb",
     "showTitle": false,
     "tableResultSettingsMap": {},
     "title": ""
    }
   },
   "outputs": [],
   "source": [
    "\n",
    "  %sql\n",
    "  CREATE TABLE IF NOT EXISTS silver.claims (\n",
    "  ClaimID string,\n",
    "  SRC_ClaimID string,\n",
    "  TransactionID string,\n",
    "  PatientID string,\n",
    "  EncounterID string,\n",
    "  ProviderID string,\n",
    "  DeptID string,\n",
    "  ServiceDate date,\n",
    "  ClaimDate date,\n",
    "  PayorID string,\n",
    "  ClaimAmount string,\n",
    "  PaidAmount string,\n",
    "  ClaimStatus string,\n",
    "  PayorType string,\n",
    "  Deductible string,\n",
    "  Coinsurance string,\n",
    "  Copay string,\n",
    "  SRC_InsertDate date,\n",
    "  SRC_ModifiedDate date,\n",
    "  datasource string,\n",
    "  is_quarantined boolean,\n",
    "  audit_insertdate timestamp,\n",
    "  audit_modifieddate timestamp,\n",
    "  is_current boolean\n",
    "  )\n",
    "  USING DELTA;\n"
   ]
  },
  {
   "cell_type": "code",
   "execution_count": 0,
   "metadata": {
    "application/vnd.databricks.v1+cell": {
     "cellMetadata": {
      "byteLimit": 2048000,
      "implicitDf": true,
      "rowLimit": 10000
     },
     "inputWidgets": {},
     "nuid": "efd9d357-34a7-4b6d-aeac-cc8e93176a5c",
     "showTitle": false,
     "tableResultSettingsMap": {},
     "title": ""
    }
   },
   "outputs": [],
   "source": [
    "%sql \n",
    "truncate table silver.claims;"
   ]
  },
  {
   "cell_type": "code",
   "execution_count": 0,
   "metadata": {
    "application/vnd.databricks.v1+cell": {
     "cellMetadata": {
      "byteLimit": 2048000,
      "implicitDf": true,
      "rowLimit": 10000
     },
     "inputWidgets": {},
     "nuid": "f705eea0-10c5-496b-9de0-45a6a312440b",
     "showTitle": false,
     "tableResultSettingsMap": {},
     "title": ""
    }
   },
   "outputs": [],
   "source": [
    "\n",
    "  %sql\n",
    "  -- Update old record to implement SCD Type 2\n",
    "  MERGE INTO silver.claims AS target\n",
    "  USING quality_checks AS source\n",
    "  ON target.ClaimID = source.ClaimID AND target.is_current = true\n",
    "  WHEN MATCHED AND (\n",
    "      target.SRC_ClaimID != source.SRC_ClaimID OR\n",
    "      target.TransactionID != source.TransactionID OR\n",
    "      target.PatientID != source.PatientID OR\n",
    "      target.EncounterID != source.EncounterID OR\n",
    "      target.ProviderID != source.ProviderID OR\n",
    "      target.DeptID != source.DeptID OR\n",
    "      target.ServiceDate != source.ServiceDate OR\n",
    "      target.ClaimDate != source.ClaimDate OR\n",
    "      target.PayorID != source.PayorID OR\n",
    "      target.ClaimAmount != source.ClaimAmount OR\n",
    "      target.PaidAmount != source.PaidAmount OR\n",
    "      target.ClaimStatus != source.ClaimStatus OR\n",
    "      target.PayorType != source.PayorType OR\n",
    "      target.Deductible != source.Deductible OR\n",
    "      target.Coinsurance != source.Coinsurance OR\n",
    "      target.Copay != source.Copay OR\n",
    "      target.SRC_InsertDate != source.SRC_InsertDate OR\n",
    "      target.SRC_ModifiedDate != source.SRC_ModifiedDate OR\n",
    "      target.datasource != source.datasource OR\n",
    "      target.is_quarantined != source.is_quarantined\n",
    "  ) THEN\n",
    "    UPDATE SET\n",
    "      target.is_current = false,\n",
    "      target.audit_modifieddate = current_timestamp()"
   ]
  },
  {
   "cell_type": "code",
   "execution_count": 0,
   "metadata": {
    "application/vnd.databricks.v1+cell": {
     "cellMetadata": {
      "byteLimit": 2048000,
      "implicitDf": true,
      "rowLimit": 10000
     },
     "inputWidgets": {},
     "nuid": "0cdb27cb-c865-47b1-bbe8-4a9b594b4b50",
     "showTitle": false,
     "tableResultSettingsMap": {},
     "title": ""
    }
   },
   "outputs": [],
   "source": [
    "\n",
    "\n",
    "  %sql\n",
    "  -- Insert new record to implement SCD Type 2\n",
    "  MERGE INTO silver.claims AS target\n",
    "  USING quality_checks AS source\n",
    "  ON target.ClaimID = source.ClaimID AND target.is_current = true\n",
    "  WHEN NOT MATCHED THEN\n",
    "    INSERT (\n",
    "      ClaimID,\n",
    "      SRC_ClaimID,\n",
    "      TransactionID,\n",
    "      PatientID,\n",
    "      EncounterID,\n",
    "      ProviderID,\n",
    "      DeptID,\n",
    "      ServiceDate,\n",
    "      ClaimDate,\n",
    "      PayorID,\n",
    "      ClaimAmount,\n",
    "      PaidAmount,\n",
    "      ClaimStatus,\n",
    "      PayorType,\n",
    "      Deductible,\n",
    "      Coinsurance,\n",
    "      Copay,\n",
    "      SRC_InsertDate,\n",
    "      SRC_ModifiedDate,\n",
    "      datasource,\n",
    "      is_quarantined,\n",
    "      audit_insertdate,\n",
    "      audit_modifieddate,\n",
    "      is_current\n",
    "    )\n",
    "    VALUES (\n",
    "      source.ClaimID,\n",
    "      source.SRC_ClaimID,\n",
    "      source.TransactionID,\n",
    "      source.PatientID,\n",
    "      source.EncounterID,\n",
    "      source.ProviderID,\n",
    "      source.DeptID,\n",
    "      source.ServiceDate,\n",
    "      source.ClaimDate,\n",
    "      source.PayorID,\n",
    "      source.ClaimAmount,\n",
    "      source.PaidAmount,\n",
    "      source.ClaimStatus,\n",
    "      source.PayorType,\n",
    "      source.Deductible,\n",
    "      source.Coinsurance,\n",
    "      source.Copay,\n",
    "      source.SRC_InsertDate,\n",
    "      source.SRC_ModifiedDate,\n",
    "      source.datasource,\n",
    "      source.is_quarantined,\n",
    "      current_timestamp(),\n",
    "      current_timestamp(),\n",
    "      true\n",
    "    );\n",
    "\n",
    "\n"
   ]
  },
  {
   "cell_type": "code",
   "execution_count": 0,
   "metadata": {
    "application/vnd.databricks.v1+cell": {
     "cellMetadata": {
      "byteLimit": 2048000,
      "implicitDf": true,
      "rowLimit": 10000
     },
     "inputWidgets": {},
     "nuid": "50e189da-351d-4904-b13d-74584e2108d7",
     "showTitle": false,
     "tableResultSettingsMap": {},
     "title": ""
    }
   },
   "outputs": [],
   "source": [
    "\n",
    "  %sql\n",
    "  select * from  silver.claims"
   ]
  },
  {
   "cell_type": "code",
   "execution_count": 0,
   "metadata": {
    "application/vnd.databricks.v1+cell": {
     "cellMetadata": {},
     "inputWidgets": {},
     "nuid": "f9482695-5261-4e82-b5cc-521873af7dcf",
     "showTitle": false,
     "tableResultSettingsMap": {},
     "title": ""
    }
   },
   "outputs": [],
   "source": []
  }
 ],
 "metadata": {
  "application/vnd.databricks.v1+notebook": {
   "computePreferences": null,
   "dashboards": [],
   "environmentMetadata": {
    "base_environment": "",
    "client": "1"
   },
   "language": "python",
   "notebookMetadata": {
    "mostRecentlyExecutedCommandWithImplicitDF": {
     "commandId": 8808273013383834,
     "dataframes": [
      "_sqldf"
     ]
    },
    "pythonIndentUnit": 4
   },
   "notebookName": "claims",
   "widgets": {}
  },
  "language_info": {
   "name": "python"
  }
 },
 "nbformat": 4,
 "nbformat_minor": 0
}
